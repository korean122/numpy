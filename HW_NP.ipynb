{
 "cells": [
  {
   "cell_type": "markdown",
   "metadata": {
    "id": "daIXip5jyJPb"
   },
   "source": [
    "## Домашнее задание"
   ]
  },
  {
   "cell_type": "markdown",
   "metadata": {
    "id": "hDLqmOtHycTH"
   },
   "source": [
    "**Задание 1** \n",
    "Создайте numpy array с элементами от числа N до 0 \n",
    "(например, для N = 10 это будет array([9, 8, 7, 6, 5, 4, 3, 2, 1, 0])).\n",
    "\n",
    "P.S. Продолжаю не понимать логику того что делаю. Про вектора и углы из лекции понял, а остальное. вроде бы матрицы это списки признаков - ОК. Но зачем их надо создавать вручную, зачем пересчитывать диагонали. Есть же какая-то реальная простая задача которую надо решить таким способом. Не знаю, для тупых как я: Маша слушает Земфиру, Гриша слушает Стинга. Создайте матрицу и перемножьте ее по диагонали. Ответ в голове похож на нецензурный вариант слова зачем. Ну нагуглил я решение и куда его засунуть. К чему применить? "
   ]
  },
  {
   "cell_type": "code",
   "execution_count": 1,
   "metadata": {
    "id": "QQ6mCzw2yGw1"
   },
   "outputs": [],
   "source": [
    "import numpy as np"
   ]
  },
  {
   "cell_type": "code",
   "execution_count": 2,
   "metadata": {
    "colab": {
     "base_uri": "https://localhost:8080/"
    },
    "id": "K5HSHfMzzlQ_",
    "outputId": "97983b28-cec4-456d-d1ca-bcc0d4ab8867"
   },
   "outputs": [
    {
     "name": "stdout",
     "output_type": "stream",
     "text": [
      "Введите число n= 10\n",
      "[9 8 7 6 5 4 3 2 1 0]\n"
     ]
    },
    {
     "data": {
      "text/plain": [
       "numpy.ndarray"
      ]
     },
     "execution_count": 2,
     "metadata": {
      "tags": []
     },
     "output_type": "execute_result"
    }
   ],
   "source": [
    "n = int(input('Введите число n: '))\n",
    "array_ = np.arange(0, n)\n",
    "array_ = array_[::-1]\n",
    "print(array_)"
   ]
  },
  {
   "cell_type": "markdown",
   "metadata": {
    "id": "dXdMp41GycbU"
   },
   "source": [
    "**Задание 2** Создайте диагональную матрицу с элементами от N до 0. Посчитайте сумму ее значений на диагонали."
   ]
  },
  {
   "cell_type": "code",
   "execution_count": 3,
   "metadata": {
    "colab": {
     "base_uri": "https://localhost:8080/"
    },
    "id": "XJxSf8Vwy5No",
    "outputId": "e53857c1-c449-4df5-ca43-a885428d9971"
   },
   "outputs": [
    {
     "name": "stdout",
     "output_type": "stream",
     "text": [
      "Введите число n = 10\n",
      "[[9 0 0 0 0 0 0 0 0 0]\n",
      " [0 8 0 0 0 0 0 0 0 0]\n",
      " [0 0 7 0 0 0 0 0 0 0]\n",
      " [0 0 0 6 0 0 0 0 0 0]\n",
      " [0 0 0 0 5 0 0 0 0 0]\n",
      " [0 0 0 0 0 4 0 0 0 0]\n",
      " [0 0 0 0 0 0 3 0 0 0]\n",
      " [0 0 0 0 0 0 0 2 0 0]\n",
      " [0 0 0 0 0 0 0 0 1 0]\n",
      " [0 0 0 0 0 0 0 0 0 0]]\n"
     ]
    },
    {
     "data": {
      "text/plain": [
       "45"
      ]
     },
     "execution_count": 3,
     "metadata": {
      "tags": []
     },
     "output_type": "execute_result"
    }
   ],
   "source": [
    "n = int(input('Введите число n: '))\n",
    "array_ = np.arange(0, n)\n",
    "array_ = array_[::-1]\n",
    "matrix_ = np.diag(array_)\n",
    "print(matrix_)\n",
    "summa_=np.trace(matrix_)\n",
    "summa_"
   ]
  },
  {
   "cell_type": "markdown",
   "metadata": {
    "id": "ZzUcE9_SypPr"
   },
   "source": [
    "**Задание 3** \n",
    "\n",
    "Решите систему уравнений: \n",
    "4x + 2y + z = 4\n",
    "x + 3y = 12 \n",
    "5y + 4z = -3\n",
    "\n",
    "#P.s. говорилось что нетология научит даже гуманитаря. Ну ОК, просто я даже близко не знаю что такое линейные уравнения. Но #бестолково нагуглить решение могу. Что это такое? Где это применяется? Как это выучить? В общем чем дальше тем меньше я #понимаю смысл того что гуглю. "
   ]
  },
  {
   "cell_type": "code",
   "execution_count": 4,
   "metadata": {
    "colab": {
     "base_uri": "https://localhost:8080/"
    },
    "id": "GYEopGdfy5wn",
    "outputId": "3ced110c-6f15-4975-e3f5-373afcb2fa8d"
   },
   "outputs": [
    {
     "data": {
      "text/plain": [
       "array([ 0.46666667,  3.84444444, -5.55555556])"
      ]
     },
     "execution_count": 4,
     "metadata": {
      "tags": []
     },
     "output_type": "execute_result"
    }
   ],
   "source": [
    "from numpy import linalg\n",
    "a = np.array([[4,2,1],[1,3,0],[0,5,4]])\n",
    "b = np.array([4,12,-3])\n",
    "linalg.solve(a,b)"
   ]
  },
  {
   "cell_type": "code",
   "execution_count": 6,
   "metadata": {
    "colab": {
     "base_uri": "https://localhost:8080/"
    },
    "id": "1KJzn7Co15VG",
    "outputId": "4c555d3c-e86e-4cd9-a598-a08e0543cfdf"
   },
   "outputs": [
    {
     "data": {
      "text/plain": [
       "True"
      ]
     },
     "execution_count": 6,
     "metadata": {
      "tags": []
     },
     "output_type": "execute_result"
    }
   ],
   "source": [
    "np.allclose( np.dot(a, np.linalg.solve(a, b)), b )"
   ]
  },
  {
   "cell_type": "markdown",
   "metadata": {
    "id": "9rNMXNEayn9J"
   },
   "source": [
    "**Задание 4**\n",
    "\n",
    "В материалах занятия раздел “Задача 4 домашнего задания”\n",
    "\n",
    "Имеется матрица покупок в интернет-магазине. \n",
    "Столбец А - ID пользователя. \n",
    "Остальные столбцы - количество покупок категорий товаров этим пользователем:\n",
    "Матрица в виде numpy array"
   ]
  },
  {
   "cell_type": "code",
   "execution_count": 5,
   "metadata": {
    "colab": {
     "base_uri": "https://localhost:8080/",
     "height": 34
    },
    "id": "7YY2Awb9y6LQ",
    "outputId": "db7591a9-94f8-4791-a4d7-8bf599eb29cb"
   },
   "outputs": [
    {
     "data": {
      "image/png": "user_matrix.JPG",
      "text/plain": [
       "<IPython.core.display.Image object>"
      ]
     },
     "execution_count": 5,
     "metadata": {
      "tags": []
     },
     "output_type": "execute_result"
    }
   ],
   "source": [
    "#пример как прикрепить фотографию\n",
    "from IPython.display import Image\n",
    "Image(\"user_matrix.JPG\")"
   ]
  },
  {
   "cell_type": "code",
   "execution_count": 7,
   "metadata": {
    "id": "rFywWbJm1NCU"
   },
   "outputs": [],
   "source": [
    "users_stats = np.array(\n",
    "    [\n",
    "        [2, 1, 0, 0, 0, 0],\n",
    "        [1, 1, 2, 1, 0, 0],\n",
    "        [2, 0, 1, 0, 0, 0],\n",
    "        [1, 1, 2, 1, 0, 1],\n",
    "        [0, 0, 1, 2, 0, 0],\n",
    "        [0, 0, 0, 0, 0, 5],\n",
    "        [1, 0, 0, 0, 0, 0],\n",
    "        [0, 1, 1, 0, 0, 0],\n",
    "        [0, 0, 0, 1, 1, 3],\n",
    "        [1, 0, 0, 2, 1, 4]\n",
    "    ], \n",
    "    np.int32\n",
    ")"
   ]
  },
  {
   "cell_type": "markdown",
   "metadata": {
    "id": "x1tZ6Ju11UpW"
   },
   "source": [
    "На сайт заходит очередной посетитель, о покупках которого известно следующее:"
   ]
  },
  {
   "cell_type": "code",
   "execution_count": 8,
   "metadata": {
    "id": "Q6UjrxKJ1WSW"
   },
   "outputs": [],
   "source": [
    "next_user_stats = np.array([0, 1, 2, 0, 0, 0])"
   ]
  },
  {
   "cell_type": "markdown",
   "metadata": {
    "id": "VYijzwZ-1YBL"
   },
   "source": [
    "Найдите самого похожего пользователя. Т. е. посчитайте косинусное сходство между этим пользователем и всеми пользователями из массива user_stats"
   ]
  },
  {
   "cell_type": "code",
   "execution_count": 11,
   "metadata": {
    "id": "Xb8Qto_x1-tc"
   },
   "outputs": [],
   "source": [
    "def cosine( a, b ):\n",
    "    \"\"\"    расчет cos. угла между векторами a, b     \"\"\"\n",
    "    aLength = np.linalg.norm( a )\n",
    "    bLength = np.linalg.norm( b )    \n",
    "    return np.dot( a, b ) / ( aLength * bLength )"
   ]
  },
  {
   "cell_type": "code",
   "execution_count": 12,
   "metadata": {
    "colab": {
     "base_uri": "https://localhost:8080/"
    },
    "id": "mY6C9qV_2AjT",
    "outputId": "babf3db6-2e1e-44ef-8953-9e8bed8cf14c"
   },
   "outputs": [
    {
     "name": "stdout",
     "output_type": "stream",
     "text": [
      "Id самого похожего пользователя - 8\n"
     ]
    }
   ],
   "source": [
    "max_cos = -2\n",
    "max_id = 0\n",
    "for i,user in enumerate(users_stats):\n",
    "    temp = cosine(user,next_user_stats)\n",
    "    if temp > max_cos:\n",
    "        max_cos = temp\n",
    "        max_id = i\n",
    "print(f'Id самого похожего пользователя - {max_id+1}')"
   ]
  }
 ],
 "metadata": {
  "colab": {
   "collapsed_sections": [],
   "name": "HW_NP.ipynb",
   "provenance": []
  },
  "kernelspec": {
   "display_name": "Python 3",
   "language": "python",
   "name": "python3"
  },
  "language_info": {
   "codemirror_mode": {
    "name": "ipython",
    "version": 3
   },
   "file_extension": ".py",
   "mimetype": "text/x-python",
   "name": "python",
   "nbconvert_exporter": "python",
   "pygments_lexer": "ipython3",
   "version": "3.8.8"
  }
 },
 "nbformat": 4,
 "nbformat_minor": 1
}
